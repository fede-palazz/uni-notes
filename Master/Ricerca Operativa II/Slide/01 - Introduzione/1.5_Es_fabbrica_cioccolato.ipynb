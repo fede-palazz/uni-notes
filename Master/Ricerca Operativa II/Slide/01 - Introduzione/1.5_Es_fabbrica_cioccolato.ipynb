{
 "cells": [
  {
   "cell_type": "markdown",
   "metadata": {},
   "source": [
    "### Problema\n",
    "La fabbrica del cioccolato produce due tipi di creme (che per semplicità chiamiamo A e B) che vende rispettivamente a 25 e 28 €/Kg. Considerando la composizione delle singole creme e le disponibilità in magazzino degli ingredienti (vedi tabella) qual è il mas-simo guadagno che si può ottenere producendo A e B?\n",
    "\n",
    "\n",
    "   composizione    | Latte | Cioccolato | Zucchero | Burro |\n",
    "-------            | ----- | ------- | -------- | ---------\n",
    "crema A             | 40%   | 40%     | 10%      | 10%\n",
    "crema B             | 24%   | 45%     | 31%      | -\n",
    "disponibilità (Kg) | 312   | 360     | 160      | 70\n",
    "\n",
    "\n",
    "La miglior strategia che abbiamo individuato (produco A quanto più posso e con gli ingredienti avanzati produco la crema B) garantisce un profitto pari a 21.233 Euro."
   ]
  },
  {
   "cell_type": "code",
   "execution_count": null,
   "metadata": {},
   "outputs": [],
   "source": [
    "%load_ext ampl"
   ]
  },
  {
   "cell_type": "code",
   "execution_count": null,
   "metadata": {},
   "outputs": [],
   "source": [
    "%%ampl\n",
    "reset;\n",
    "\n",
    "# Dichiarazione delle variabili\n",
    "var x;\n",
    "var y;\n",
    "\n",
    "# Funzione obiettivo\n",
    "maximize z: 25*x + 28*y;\n",
    "\n",
    "# Vincoli\n",
    "subject to disp_latte:           0.4*x + 0.24*y  <= 312;\n",
    "subject to disp_cioccolato:      0.4*x + 0.45*y  <= 360;\n",
    "subject to disp_zucchero:        0.1*x + 0.31*y  <= 160;\n",
    "subject to disp_burro:           0.1*x           <= 70;"
   ]
  },
  {
   "cell_type": "code",
   "execution_count": null,
   "metadata": {},
   "outputs": [],
   "source": [
    "%%ampl\n",
    "solve;\n",
    "display z, x, y;"
   ]
  },
  {
   "cell_type": "code",
   "execution_count": null,
   "metadata": {},
   "outputs": [],
   "source": []
  },
  {
   "cell_type": "markdown",
   "metadata": {},
   "source": [
    "ora proviamo lo stesso modello con altri dati"
   ]
  },
  {
   "cell_type": "code",
   "execution_count": null,
   "metadata": {},
   "outputs": [],
   "source": [
    "%%ampl\n",
    "reset;\n",
    "\n",
    "# Dichiarazione delle variabili\n",
    "var x;\n",
    "var y;\n",
    "\n",
    "# Funzione obiettivo\n",
    "maximize z: 25*x + 28*y;\n",
    "\n",
    "# Vincoli\n",
    "subject to disp_latte:      0.4*x + 0.35*y <= 312;\n",
    "subject to disp_cioccolato: 0.3*x + 0.2*y  <= 360;\n",
    "subject to disp_zucchero:   0.2*x + 0.15*y <= 160;\n",
    "subject to disp_burro:      0.1*x          <= 70;    "
   ]
  },
  {
   "cell_type": "code",
   "execution_count": null,
   "metadata": {},
   "outputs": [],
   "source": [
    "%%ampl\n",
    "solve;\n",
    "display z, x, y;"
   ]
  },
  {
   "cell_type": "code",
   "execution_count": null,
   "metadata": {},
   "outputs": [],
   "source": [
    "891.43*28"
   ]
  },
  {
   "cell_type": "markdown",
   "metadata": {},
   "source": [
    "**ATTENZIONE!** \n",
    "\n",
    "(x,y) = (0, 891.429) è una soluzione, ma il solutore ci comunica che il problema è verosimilmente *unbounded*, cioè illimitato.\n",
    "\n",
    "Che significa? E perchè succede? Per capirlo, proviamo a mettere un limite al valore della funzione obiettivo..."
   ]
  },
  {
   "cell_type": "code",
   "execution_count": null,
   "metadata": {},
   "outputs": [],
   "source": [
    "%%ampl\n",
    "delete profitto;\n",
    "subject to profitto: 25*x + 28*y <= 1000000;     "
   ]
  },
  {
   "cell_type": "code",
   "execution_count": null,
   "metadata": {
    "scrolled": true
   },
   "outputs": [],
   "source": [
    "%%ampl\n",
    "solve;\n",
    "display x,y;"
   ]
  },
  {
   "cell_type": "markdown",
   "metadata": {},
   "source": [
    "La $x$ assume un valore negativo... \n",
    "\n",
    "Se non impongo esplicitamente un vincolo di segno, il modello \"capisce\" che per ogni kg di crema A acquistata invece che prodotta (questo è il significato di un valore negativo di x) si può produrre almeno un Kg di crema B con un guadagno netto di 3 Euro. Non avendo un limite sulla quantità acquistabile, non c'è più *trade-off*, cioè non siamo più in regime di *risorse scarse* e la soluzione ottima vale $+\\infty$   "
   ]
  },
  {
   "cell_type": "code",
   "execution_count": null,
   "metadata": {},
   "outputs": [],
   "source": [
    "%%ampl\n",
    "delete profitto;\n",
    "subject to segno_x: x >= 0;\n",
    "subject to segno_y: y >= 0;\n",
    "expand;    "
   ]
  },
  {
   "cell_type": "code",
   "execution_count": null,
   "metadata": {},
   "outputs": [],
   "source": [
    "%%ampl\n",
    "solve;\n",
    "display z, x, y;"
   ]
  },
  {
   "cell_type": "code",
   "execution_count": null,
   "metadata": {},
   "outputs": [],
   "source": []
  }
 ],
 "metadata": {
  "anaconda-cloud": {},
  "kernelspec": {
   "display_name": "Python 2",
   "language": "python",
   "name": "python2"
  },
  "language_info": {
   "codemirror_mode": {
    "name": "ipython",
    "version": 2
   },
   "file_extension": ".py",
   "mimetype": "text/x-python",
   "name": "python",
   "nbconvert_exporter": "python",
   "pygments_lexer": "ipython2",
   "version": "2.7.16"
  }
 },
 "nbformat": 4,
 "nbformat_minor": 1
}
